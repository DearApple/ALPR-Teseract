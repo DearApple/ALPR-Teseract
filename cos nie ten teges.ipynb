{
 "cells": [
  {
   "cell_type": "code",
   "execution_count": 2,
   "metadata": {},
   "outputs": [],
   "source": [
    "import cv2\n",
    "import imutils\n",
    "import pytesseract\n",
    "import os\n",
    "\n",
    "pytesseract.pytesseract.tesseract_cmd = 'C:\\\\Program Files\\\\Tesseract-OCR\\\\tesseract.exe'"
   ]
  },
  {
   "cell_type": "code",
   "execution_count": 3,
   "metadata": {},
   "outputs": [],
   "source": [
    "def load_images_from_folder(folder):\n",
    "    images = []\n",
    "    for filename in os.listdir(folder):\n",
    "        img = cv2.imread(os.path.join(folder,filename))\n",
    "        if img is not None:\n",
    "            images.append(img)\n",
    "    return images"
   ]
  },
  {
   "cell_type": "code",
   "execution_count": 4,
   "metadata": {},
   "outputs": [],
   "source": [
    "def image_prepere(images):\n",
    "    cv2.imshow(\"image\", images[371])\n",
    "    cv2.waitKey(0)\n",
    "    k=0\n",
    "    for i in range (len(images)):\n",
    "        image = images[i]\n",
    "        \n",
    "        #image = imutils.resize(image, width=300 )\n",
    "\n",
    "        gray_image = cv2.cvtColor(image, cv2.COLOR_BGR2GRAY)\n",
    "       \n",
    "\n",
    "        gray_image = cv2.bilateralFilter(gray_image, 11, 17, 17) \n",
    "       \n",
    "\n",
    "        edged = cv2.Canny(gray_image, 30, 200) \n",
    "       \n",
    "\n",
    "        cnts,new = cv2.findContours(edged.copy(), cv2.RETR_LIST, cv2.CHAIN_APPROX_SIMPLE)\n",
    "        image1=image.copy()\n",
    "        cv2.drawContours(image1,cnts,-1,(0,255,0),3)\n",
    "\n",
    "        cnts = sorted(cnts, key = cv2.contourArea, reverse = True) [:30]\n",
    "        screenCnt = None\n",
    "        image2 = image.copy()\n",
    "        cv2.drawContours(image2,cnts,-1,(0,255,0),3)\n",
    "       \n",
    "        for c in cnts:\n",
    "            perimeter = cv2.arcLength(c, True)\n",
    "            approx = cv2.approxPolyDP(c, 0.018 * perimeter, True)\n",
    "            if len(approx) == 4: \n",
    "                    screenCnt = approx\n",
    "                    x,y,w,h = cv2.boundingRect(c) \n",
    "                    new_img=image[y:y+h,x:x+w]\n",
    "                    cv2.imwrite('./'+str(i)+'.png',new_img)\n",
    "                    k+=1\n",
    "                    cv2.drawContours(image, [screenCnt], -1, (0, 255, 0), 3)\n",
    "                    break"
   ]
  },
  {
   "cell_type": "code",
   "execution_count": 5,
   "metadata": {},
   "outputs": [
    {
     "ename": "error",
     "evalue": "OpenCV(4.5.4) D:\\a\\opencv-python\\opencv-python\\opencv\\modules\\highgui\\src\\window.cpp:1274: error: (-2:Unspecified error) The function is not implemented. Rebuild the library with Windows, GTK+ 2.x or Cocoa support. If you are on Ubuntu or Debian, install libgtk2.0-dev and pkg-config, then re-run cmake or configure script in function 'cvShowImage'\n",
     "output_type": "error",
     "traceback": [
      "\u001b[1;31m---------------------------------------------------------------------------\u001b[0m",
      "\u001b[1;31merror\u001b[0m                                     Traceback (most recent call last)",
      "\u001b[1;32mc:\\Users\\DearA\\OneDrive\\Pulpit\\VS_Code\\Tesseract_version\\cos nie ten teges.ipynb Cell 4\u001b[0m in \u001b[0;36m<cell line: 2>\u001b[1;34m()\u001b[0m\n\u001b[0;32m      <a href='vscode-notebook-cell:/c%3A/Users/DearA/OneDrive/Pulpit/VS_Code/Tesseract_version/cos%20nie%20ten%20teges.ipynb#ch0000003?line=0'>1</a>\u001b[0m images \u001b[39m=\u001b[39m load_images_from_folder(\u001b[39m\"\u001b[39m\u001b[39mC:\u001b[39m\u001b[39m\\\\\u001b[39;00m\u001b[39mUsers\u001b[39m\u001b[39m\\\\\u001b[39;00m\u001b[39mDearA\u001b[39m\u001b[39m\\\\\u001b[39;00m\u001b[39mOneDrive\u001b[39m\u001b[39m\\\\\u001b[39;00m\u001b[39mPulpit\u001b[39m\u001b[39m\\\\\u001b[39;00m\u001b[39mVS_Code\u001b[39m\u001b[39m\\\\\u001b[39;00m\u001b[39mimages\u001b[39m\u001b[39m\"\u001b[39m)\n\u001b[1;32m----> <a href='vscode-notebook-cell:/c%3A/Users/DearA/OneDrive/Pulpit/VS_Code/Tesseract_version/cos%20nie%20ten%20teges.ipynb#ch0000003?line=1'>2</a>\u001b[0m images \u001b[39m=\u001b[39m image_prepere(images)\n",
      "\u001b[1;32mc:\\Users\\DearA\\OneDrive\\Pulpit\\VS_Code\\Tesseract_version\\cos nie ten teges.ipynb Cell 4\u001b[0m in \u001b[0;36mimage_prepere\u001b[1;34m(images)\u001b[0m\n\u001b[0;32m      <a href='vscode-notebook-cell:/c%3A/Users/DearA/OneDrive/Pulpit/VS_Code/Tesseract_version/cos%20nie%20ten%20teges.ipynb#ch0000003?line=0'>1</a>\u001b[0m \u001b[39mdef\u001b[39;00m \u001b[39mimage_prepere\u001b[39m(images):\n\u001b[1;32m----> <a href='vscode-notebook-cell:/c%3A/Users/DearA/OneDrive/Pulpit/VS_Code/Tesseract_version/cos%20nie%20ten%20teges.ipynb#ch0000003?line=1'>2</a>\u001b[0m     cv2\u001b[39m.\u001b[39;49mimshow(\u001b[39m\"\u001b[39;49m\u001b[39mimage\u001b[39;49m\u001b[39m\"\u001b[39;49m, images[\u001b[39m371\u001b[39;49m])\n\u001b[0;32m      <a href='vscode-notebook-cell:/c%3A/Users/DearA/OneDrive/Pulpit/VS_Code/Tesseract_version/cos%20nie%20ten%20teges.ipynb#ch0000003?line=2'>3</a>\u001b[0m     cv2\u001b[39m.\u001b[39mwaitKey(\u001b[39m0\u001b[39m)\n\u001b[0;32m      <a href='vscode-notebook-cell:/c%3A/Users/DearA/OneDrive/Pulpit/VS_Code/Tesseract_version/cos%20nie%20ten%20teges.ipynb#ch0000003?line=3'>4</a>\u001b[0m     k\u001b[39m=\u001b[39m\u001b[39m0\u001b[39m\n",
      "\u001b[1;31merror\u001b[0m: OpenCV(4.5.4) D:\\a\\opencv-python\\opencv-python\\opencv\\modules\\highgui\\src\\window.cpp:1274: error: (-2:Unspecified error) The function is not implemented. Rebuild the library with Windows, GTK+ 2.x or Cocoa support. If you are on Ubuntu or Debian, install libgtk2.0-dev and pkg-config, then re-run cmake or configure script in function 'cvShowImage'\n"
     ]
    }
   ],
   "source": [
    "images = load_images_from_folder(\"C:\\\\Users\\\\DearA\\\\OneDrive\\\\Pulpit\\\\VS_Code\\\\images\")\n",
    "images = image_prepere(images)"
   ]
  },
  {
   "cell_type": "code",
   "execution_count": null,
   "metadata": {},
   "outputs": [
    {
     "name": "stdout",
     "output_type": "stream",
     "text": [
      "Number plate is: SS\n",
      "\n"
     ]
    },
    {
     "ename": "",
     "evalue": "",
     "output_type": "error",
     "traceback": [
      "\u001b[1;31mThe Kernel crashed while executing code in the the current cell or a previous cell. Please review the code in the cell(s) to identify a possible cause of the failure. Click <a href='https://aka.ms/vscodeJupyterKernelCrash'>here</a> for more info. View Jupyter <a href='command:jupyter.viewOutput'>log</a> for further details."
     ]
    }
   ],
   "source": [
    "Cropped_loc = './371.png'\n",
    "plate = pytesseract.image_to_string(Cropped_loc, lang ='eng', \n",
    "config ='--oem 3 --psm 7 -c tessedit_char_whitelist=ABCDEFGHIJKLMNOPQRSTUVWXYZ0123456789')\n",
    "print(\"Number plate is:\", plate)"
   ]
  }
 ],
 "metadata": {
  "kernelspec": {
   "display_name": "Python 3.10.5 64-bit",
   "language": "python",
   "name": "python3"
  },
  "language_info": {
   "codemirror_mode": {
    "name": "ipython",
    "version": 3
   },
   "file_extension": ".py",
   "mimetype": "text/x-python",
   "name": "python",
   "nbconvert_exporter": "python",
   "pygments_lexer": "ipython3",
   "version": "3.10.6"
  },
  "orig_nbformat": 4,
  "vscode": {
   "interpreter": {
    "hash": "41fd6181adcd649cf4b009763b357976b33ca04e1154689e1707b806bee69ff8"
   }
  }
 },
 "nbformat": 4,
 "nbformat_minor": 2
}
